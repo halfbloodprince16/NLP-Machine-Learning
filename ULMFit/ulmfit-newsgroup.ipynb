{
 "cells": [
  {
   "cell_type": "code",
   "execution_count": 1,
   "metadata": {
    "_cell_guid": "b1076dfc-b9ad-4769-8c92-a6c4dae69d19",
    "_uuid": "8f2839f25d086af736a60e9eeb907d3b93b6e0e5"
   },
   "outputs": [
    {
     "name": "stdout",
     "output_type": "stream",
     "text": [
      "[]\n"
     ]
    }
   ],
   "source": [
    "import numpy as np # linear algebra\n",
    "import pandas as pd # data processing, CSV file I/O (e.g. pd.read_csv)\n",
    "import os\n",
    "print(os.listdir(\"../input\"))"
   ]
  },
  {
   "cell_type": "code",
   "execution_count": 2,
   "metadata": {
    "_cell_guid": "79c7e3d0-c299-4dcb-8224-4455121ee9b0",
    "_uuid": "d629ff2d2480ee46fbb7e2d37f6b5fab8052498a"
   },
   "outputs": [],
   "source": [
    "import fastai\n",
    "from fastai import *\n",
    "from fastai.text import * \n",
    "import pandas as pd\n",
    "import numpy as np\n",
    "from functools import partial\n",
    "import io"
   ]
  },
  {
   "cell_type": "code",
   "execution_count": 3,
   "metadata": {},
   "outputs": [
    {
     "name": "stderr",
     "output_type": "stream",
     "text": [
      "Downloading 20news dataset. This may take a few minutes.\n",
      "Downloading dataset from https://ndownloader.figshare.com/files/5975967 (14 MB)\n"
     ]
    }
   ],
   "source": [
    "#import dataset\n",
    "from sklearn.datasets import fetch_20newsgroups\n",
    "dataset = fetch_20newsgroups(shuffle=True, random_state=1, remove=('headers', 'footers', 'quotes'))\n",
    "documents = dataset.data"
   ]
  },
  {
   "cell_type": "code",
   "execution_count": 4,
   "metadata": {},
   "outputs": [
    {
     "name": "stdout",
     "output_type": "stream",
     "text": [
      "[17  0 17 11 ... 13  9  4  9]\n"
     ]
    }
   ],
   "source": [
    "print(dataset.target)"
   ]
  },
  {
   "cell_type": "code",
   "execution_count": 5,
   "metadata": {},
   "outputs": [],
   "source": [
    "# create a dataframe\n",
    "df = pd.DataFrame({'label':dataset.target,\n",
    "                   'text':dataset.data})"
   ]
  },
  {
   "cell_type": "code",
   "execution_count": 6,
   "metadata": {},
   "outputs": [
    {
     "data": {
      "text/html": [
       "<div>\n",
       "<style scoped>\n",
       "    .dataframe tbody tr th:only-of-type {\n",
       "        vertical-align: middle;\n",
       "    }\n",
       "\n",
       "    .dataframe tbody tr th {\n",
       "        vertical-align: top;\n",
       "    }\n",
       "\n",
       "    .dataframe thead th {\n",
       "        text-align: right;\n",
       "    }\n",
       "</style>\n",
       "<table border=\"1\" class=\"dataframe\">\n",
       "  <thead>\n",
       "    <tr style=\"text-align: right;\">\n",
       "      <th></th>\n",
       "      <th>label</th>\n",
       "      <th>text</th>\n",
       "    </tr>\n",
       "  </thead>\n",
       "  <tbody>\n",
       "    <tr>\n",
       "      <th>0</th>\n",
       "      <td>17</td>\n",
       "      <td>Well i'm not sure about the story nad it did s...</td>\n",
       "    </tr>\n",
       "    <tr>\n",
       "      <th>1</th>\n",
       "      <td>0</td>\n",
       "      <td>\\n\\n\\n\\n\\n\\n\\nYeah, do you expect people to re...</td>\n",
       "    </tr>\n",
       "    <tr>\n",
       "      <th>2</th>\n",
       "      <td>17</td>\n",
       "      <td>Although I realize that principle is not one o...</td>\n",
       "    </tr>\n",
       "    <tr>\n",
       "      <th>3</th>\n",
       "      <td>11</td>\n",
       "      <td>Notwithstanding all the legitimate fuss about ...</td>\n",
       "    </tr>\n",
       "    <tr>\n",
       "      <th>4</th>\n",
       "      <td>10</td>\n",
       "      <td>Well, I will have to change the scoring on my ...</td>\n",
       "    </tr>\n",
       "  </tbody>\n",
       "</table>\n",
       "</div>"
      ],
      "text/plain": [
       "   label                                               text\n",
       "0     17  Well i'm not sure about the story nad it did s...\n",
       "1      0  \\n\\n\\n\\n\\n\\n\\nYeah, do you expect people to re...\n",
       "2     17  Although I realize that principle is not one o...\n",
       "3     11  Notwithstanding all the legitimate fuss about ...\n",
       "4     10  Well, I will have to change the scoring on my ..."
      ]
     },
     "execution_count": 6,
     "metadata": {},
     "output_type": "execute_result"
    }
   ],
   "source": [
    "df.head()"
   ]
  },
  {
   "cell_type": "code",
   "execution_count": 7,
   "metadata": {},
   "outputs": [
    {
     "data": {
      "text/plain": [
       "array([17,  0, 11, 10, 15,  4, 13, 12,  1,  6, 19, 16,  8,  7,  2,  5,  3, 14,  9, 18])"
      ]
     },
     "execution_count": 7,
     "metadata": {},
     "output_type": "execute_result"
    }
   ],
   "source": [
    "df['label'].unique()"
   ]
  },
  {
   "cell_type": "code",
   "execution_count": 8,
   "metadata": {},
   "outputs": [],
   "source": [
    "df = df[df['label'].isin([1,10])]\n",
    "df = df.reset_index(drop = True)"
   ]
  },
  {
   "cell_type": "code",
   "execution_count": 9,
   "metadata": {},
   "outputs": [
    {
     "data": {
      "text/plain": [
       "10    600\n",
       "1     584\n",
       "Name: label, dtype: int64"
      ]
     },
     "execution_count": 9,
     "metadata": {},
     "output_type": "execute_result"
    }
   ],
   "source": [
    "df['label'].value_counts()"
   ]
  },
  {
   "cell_type": "code",
   "execution_count": 10,
   "metadata": {},
   "outputs": [],
   "source": [
    "df['text'] = df['text'].str.replace(\"[^a-zA-Z]\", \" \")"
   ]
  },
  {
   "cell_type": "code",
   "execution_count": 11,
   "metadata": {},
   "outputs": [
    {
     "name": "stdout",
     "output_type": "stream",
     "text": [
      "[nltk_data] Downloading package stopwords to /usr/share/nltk_data...\n",
      "[nltk_data]   Unzipping corpora/stopwords.zip.\n"
     ]
    },
    {
     "data": {
      "text/plain": [
       "True"
      ]
     },
     "execution_count": 11,
     "metadata": {},
     "output_type": "execute_result"
    }
   ],
   "source": [
    "import nltk\n",
    "nltk.download('stopwords')"
   ]
  },
  {
   "cell_type": "code",
   "execution_count": 12,
   "metadata": {},
   "outputs": [],
   "source": [
    "from nltk.corpus import stopwords \n",
    "stop_words = stopwords.words('english')"
   ]
  },
  {
   "cell_type": "code",
   "execution_count": 13,
   "metadata": {},
   "outputs": [],
   "source": [
    "# tokenization \n",
    "tokenized_doc = df['text'].apply(lambda x: x.split())\n",
    "\n",
    "# remove stop-words \n",
    "tokenized_doc = tokenized_doc.apply(lambda x: [item for item in x if item not in stop_words]) \n",
    "\n",
    "# de-tokenization \n",
    "detokenized_doc = [] \n",
    "for i in range(len(df)): \n",
    "    t = ' '.join(tokenized_doc[i]) \n",
    "    detokenized_doc.append(t) \n",
    "df['text'] = detokenized_doc"
   ]
  },
  {
   "cell_type": "code",
   "execution_count": 14,
   "metadata": {},
   "outputs": [
    {
     "data": {
      "text/plain": [
       "0    Well I change scoring playoff pool Unfortunate...\n",
       "1    Archive name graphics resources list part Last...\n",
       "2    And course Mike Ramsey one time captain Buffal...\n",
       "3    As I promised I would give name Panther presid...\n",
       "4    GAME S OF ADIRONDACK CDI Adirondack leads seri...\n",
       "Name: text, dtype: object"
      ]
     },
     "execution_count": 14,
     "metadata": {},
     "output_type": "execute_result"
    }
   ],
   "source": [
    "df['text'].head()"
   ]
  },
  {
   "cell_type": "code",
   "execution_count": 15,
   "metadata": {},
   "outputs": [],
   "source": [
    "from sklearn.model_selection import train_test_split\n",
    "# split data into training and validation set\n",
    "df_trn, df_val = train_test_split(df, stratify = df['label'], test_size = 0.3, random_state = 12)"
   ]
  },
  {
   "cell_type": "code",
   "execution_count": 16,
   "metadata": {},
   "outputs": [
    {
     "data": {
      "text/plain": [
       "((828, 2), (356, 2))"
      ]
     },
     "execution_count": 16,
     "metadata": {},
     "output_type": "execute_result"
    }
   ],
   "source": [
    "df_trn.shape, df_val.shape"
   ]
  },
  {
   "cell_type": "code",
   "execution_count": 17,
   "metadata": {},
   "outputs": [],
   "source": [
    "# Language model data\n",
    "data_lm = TextLMDataBunch.from_df(train_df = df_trn, valid_df = df_val, path = \"\")\n",
    "\n",
    "# Classifier model data\n",
    "data_clas = TextClasDataBunch.from_df(path = \"\", train_df = df_trn, valid_df = df_val, vocab=data_lm.train_ds.vocab, bs=32)"
   ]
  },
  {
   "cell_type": "code",
   "execution_count": 18,
   "metadata": {},
   "outputs": [
    {
     "data": {
      "text/plain": [
       "(fastai.text.data.TextLMDataBunch, fastai.text.data.TextClasDataBunch)"
      ]
     },
     "execution_count": 18,
     "metadata": {},
     "output_type": "execute_result"
    }
   ],
   "source": [
    "type(data_lm), type(data_clas)"
   ]
  },
  {
   "cell_type": "code",
   "execution_count": 19,
   "metadata": {},
   "outputs": [],
   "source": [
    "learn = language_model_learner(data_lm, AWD_LSTM, drop_mult=0.3)"
   ]
  },
  {
   "cell_type": "code",
   "execution_count": 20,
   "metadata": {},
   "outputs": [
    {
     "data": {
      "text/html": [],
      "text/plain": [
       "<IPython.core.display.HTML object>"
      ]
     },
     "metadata": {},
     "output_type": "display_data"
    },
    {
     "name": "stdout",
     "output_type": "stream",
     "text": [
      "LR Finder is complete, type {learner_name}.recorder.plot() to see the graph.\n"
     ]
    }
   ],
   "source": [
    "learn.lr_find()"
   ]
  },
  {
   "cell_type": "code",
   "execution_count": 21,
   "metadata": {},
   "outputs": [
    {
     "data": {
      "image/png": "[encoded data removed]",
      "text/plain": [
       "<Figure size 432x288 with 1 Axes>"
      ]
     },
     "metadata": {},
     "output_type": "display_data"
    }
   ],
   "source": [
    "learn.recorder.plot(skip_end=15)"
   ]
  },
  {
   "cell_type": "code",
   "execution_count": 22,
   "metadata": {},
   "outputs": [
    {
     "data": {
      "text/html": [
       "<table border=\"1\" class=\"dataframe\">\n",
       "  <thead>\n",
       "    <tr style=\"text-align: left;\">\n",
       "      <th>epoch</th>\n",
       "      <th>train_loss</th>\n",
       "      <th>valid_loss</th>\n",
       "      <th>accuracy</th>\n",
       "      <th>time</th>\n",
       "    </tr>\n",
       "  </thead>\n",
       "  <tbody>\n",
       "    <tr>\n",
       "      <td>0</td>\n",
       "      <td>6.331905</td>\n",
       "      <td>5.292266</td>\n",
       "      <td>0.260987</td>\n",
       "      <td>00:03</td>\n",
       "    </tr>\n",
       "  </tbody>\n",
       "</table>"
      ],
      "text/plain": [
       "<IPython.core.display.HTML object>"
      ]
     },
     "metadata": {},
     "output_type": "display_data"
    }
   ],
   "source": [
    "# train the learner object\n",
    "learn.fit_one_cycle(1, 1e-2, moms=(0.8,0.7))"
   ]
  },
  {
   "cell_type": "code",
   "execution_count": 23,
   "metadata": {},
   "outputs": [],
   "source": [
    "learn.save('fit-head')"
   ]
  },
  {
   "cell_type": "code",
   "execution_count": 24,
   "metadata": {},
   "outputs": [
    {
     "data": {
      "text/plain": [
       "LanguageLearner(data=TextLMDataBunch;\n",
       "\n",
       "Train: LabelList (828 items)\n",
       "x: LMTextList\n",
       "xxbos xxmaj for xxunk package try xxup wave xxmaj precision xxmaj visuals xxmaj for free package try xxup khoros xxmaj university xxmaj new xxmaj mexico ftp xxunk eece unm edu xxmaj login xxunk ftp valid email address password cd pub khoros release xxmaj that get right place,xxbos i agree xxmaj of cause i try daemon,xxbos xxmaj if life simple xxmaj savard played three last four games still playing like crap xxmaj montreal problems run deeper xxmaj savard xxmaj mouton unfortunately i hope get act together playoffs xxmaj the line game coming pittsburgh said one likely use playoffs xxmaj let hope forget nice weather play hockey,xxbos xxmaj first i enjoyed reading post xxmaj second i disagree xxmaj pen weak spot defense goaltending couple reasons xxmaj barrasso spectacular year slow start consistently sharp xxup gaa leads league wins xxmaj tommy deserves xxmaj vezina xxmaj given lack respect commands though i doubt win xxmaj the reason concerns xxmaj pens team defense xxmaj they xxunk around rd th xxunk goals allowed xxmaj that big improvement indicates playing better team defense xxmaj we see xxmaj it fun,xxbos xxmaj has anyone got multiverse work i built svr mips svr xxmaj sun sparcstation xxmaj there seems many bugs xxmaj the dogfight dactyl simply nothing xxmaj after fixing bug variable defined twice two different modules xxmaj one needed setting xxunk else client core dumped xxmaj steve\n",
       "y: LMLabelList\n",
       ",,,,\n",
       "Path: .;\n",
       "\n",
       "Valid: LabelList (356 items)\n",
       "x: LMTextList\n",
       "xxbos xxmaj no xxmaj that i xxunk i intend suggest xxup dec better xxup sgi let tell xxmaj xxunk day prepared large xxunk xxmaj my comment regarding xxup dec xxunk i might open vendors supported opengl rather deal xxup sgi xxmaj what i xxunk fact led believe would able upgrade multiprocessor version xxmaj crimson without assistance xxunk xxunk xxunk i also xxunk sold several xxmaj personal xxunk previous site understanding architecture would around rather xxunk xxmaj now i understand xxup sgi responsible xxunk keep showing positive xxunk bottom line odd i found xxunk least two xxunk get business books end quarter i little xxunk getting xxunk process xxmaj maybe lab xxunk xxunk xxunk xxunk xxunk xxunk covers xxmaj big xxmaj kids xxup nasa instance xxmaj this lab i suspect lot labs organizations load money spend computers every year xxunk new systems regular basis xxmaj the boxes buy last us pretty much entire grant period five years case beyond xxmaj that means i need buy best piece equipment i i money product built xxunk one previous poster words fill xxunk compete vendor i going looking box next five years xxmaj and every time i look i going think xxup sgi i could better spent money actually money since supported almost entirely xxmaj xxunk xxunk dollars xxmaj now xxunk i go xxunk xxunk corner somewhere think dark xxunk thoughts xxunk,xxbos majority users xxunk floppy xxmaj well us picture xxup cd xxup roms would like use xxup cview fast works well moron xxunk xxunk create temp file program path current xxunk xxmaj actually flexible way create temp files check xxup temp xxup tmp environment variable create files drive directory xxunk variable xxmaj this pretty much standard xxup dos xxmaj windows xxup os applications xxmaj unfortunately cview pay attention temp environment variable,xxbos xxmaj really xxmaj what makes think xxmaj islanders better shot xxmaj they even beat xxmaj whalers two games xxmaj well since xxmaj pens fans whole question xxunk i think teams likely beat xxmaj pens xxmaj bruins xxmaj nordiques xxmaj blackhawks i think really,xxbos xxmaj my vote goes xxmaj john xxmaj vanbiesbrouck xxmaj his mask xxunk xxmaj new xxmaj york xxmaj city sides bunch bees xxmaj xxunk xxmaj it looks really sharp xxmaj keith xxmaj keller xxup let s xxup go xxup rangers xxup let s xxup go xxup quakers kkeller mail sas upenn edu xxup ivy xxup league xxup champs,xxbos xxmaj bear new game could anyone explain exactly xxup xxunk simply xxunk one bitmap another shape one xxunk p another xxmaj please excuse ignorance even sure posted xxunk message correctly\n",
       "y: LMLabelList\n",
       ",,,,\n",
       "Path: .;\n",
       "\n",
       "Test: None, model=SequentialRNN(\n",
       "  (0): AWD_LSTM(\n",
       "    (encoder): Embedding(7351, 400, padding_idx=1)\n",
       "    (encoder_dp): EmbeddingDropout(\n",
       "      (emb): Embedding(7351, 400, padding_idx=1)\n",
       "    )\n",
       "    (rnns): ModuleList(\n",
       "      (0): WeightDropout(\n",
       "        (module): LSTM(400, 1150, batch_first=True)\n",
       "      )\n",
       "      (1): WeightDropout(\n",
       "        (module): LSTM(1150, 1150, batch_first=True)\n",
       "      )\n",
       "      (2): WeightDropout(\n",
       "        (module): LSTM(1150, 400, batch_first=True)\n",
       "      )\n",
       "    )\n",
       "    (input_dp): RNNDropout()\n",
       "    (hidden_dps): ModuleList(\n",
       "      (0): RNNDropout()\n",
       "      (1): RNNDropout()\n",
       "      (2): RNNDropout()\n",
       "    )\n",
       "  )\n",
       "  (1): LinearDecoder(\n",
       "    (decoder): Linear(in_features=400, out_features=7351, bias=True)\n",
       "    (output_dp): RNNDropout()\n",
       "  )\n",
       "), opt_func=functools.partial(<class 'torch.optim.adam.Adam'>, betas=(0.9, 0.99)), loss_func=FlattenedLoss of CrossEntropyLoss(), metrics=[<function accuracy at 0x7fad6b56b378>], true_wd=True, bn_wd=True, wd=0.01, train_bn=True, path=PosixPath('.'), model_dir='models', callback_fns=[functools.partial(<class 'fastai.basic_train.Recorder'>, add_time=True)], callbacks=[RNNTrainer\n",
       "learn: LanguageLearner(data=TextLMDataBunch;\n",
       "\n",
       "Train: LabelList (828 items)\n",
       "x: LMTextList\n",
       "xxbos xxmaj for xxunk package try xxup wave xxmaj precision xxmaj visuals xxmaj for free package try xxup khoros xxmaj university xxmaj new xxmaj mexico ftp xxunk eece unm edu xxmaj login xxunk ftp valid email address password cd pub khoros release xxmaj that get right place,xxbos i agree xxmaj of cause i try daemon,xxbos xxmaj if life simple xxmaj savard played three last four games still playing like crap xxmaj montreal problems run deeper xxmaj savard xxmaj mouton unfortunately i hope get act together playoffs xxmaj the line game coming pittsburgh said one likely use playoffs xxmaj let hope forget nice weather play hockey,xxbos xxmaj first i enjoyed reading post xxmaj second i disagree xxmaj pen weak spot defense goaltending couple reasons xxmaj barrasso spectacular year slow start consistently sharp xxup gaa leads league wins xxmaj tommy deserves xxmaj vezina xxmaj given lack respect commands though i doubt win xxmaj the reason concerns xxmaj pens team defense xxmaj they xxunk around rd th xxunk goals allowed xxmaj that big improvement indicates playing better team defense xxmaj we see xxmaj it fun,xxbos xxmaj has anyone got multiverse work i built svr mips svr xxmaj sun sparcstation xxmaj there seems many bugs xxmaj the dogfight dactyl simply nothing xxmaj after fixing bug variable defined twice two different modules xxmaj one needed setting xxunk else client core dumped xxmaj steve\n",
       "y: LMLabelList\n",
       ",,,,\n",
       "Path: .;\n",
       "\n",
       "Valid: LabelList (356 items)\n",
       "x: LMTextList\n",
       "xxbos xxmaj no xxmaj that i xxunk i intend suggest xxup dec better xxup sgi let tell xxmaj xxunk day prepared large xxunk xxmaj my comment regarding xxup dec xxunk i might open vendors supported opengl rather deal xxup sgi xxmaj what i xxunk fact led believe would able upgrade multiprocessor version xxmaj crimson without assistance xxunk xxunk xxunk i also xxunk sold several xxmaj personal xxunk previous site understanding architecture would around rather xxunk xxmaj now i understand xxup sgi responsible xxunk keep showing positive xxunk bottom line odd i found xxunk least two xxunk get business books end quarter i little xxunk getting xxunk process xxmaj maybe lab xxunk xxunk xxunk xxunk xxunk xxunk covers xxmaj big xxmaj kids xxup nasa instance xxmaj this lab i suspect lot labs organizations load money spend computers every year xxunk new systems regular basis xxmaj the boxes buy last us pretty much entire grant period five years case beyond xxmaj that means i need buy best piece equipment i i money product built xxunk one previous poster words fill xxunk compete vendor i going looking box next five years xxmaj and every time i look i going think xxup sgi i could better spent money actually money since supported almost entirely xxmaj xxunk xxunk dollars xxmaj now xxunk i go xxunk xxunk corner somewhere think dark xxunk thoughts xxunk,xxbos majority users xxunk floppy xxmaj well us picture xxup cd xxup roms would like use xxup cview fast works well moron xxunk xxunk create temp file program path current xxunk xxmaj actually flexible way create temp files check xxup temp xxup tmp environment variable create files drive directory xxunk variable xxmaj this pretty much standard xxup dos xxmaj windows xxup os applications xxmaj unfortunately cview pay attention temp environment variable,xxbos xxmaj really xxmaj what makes think xxmaj islanders better shot xxmaj they even beat xxmaj whalers two games xxmaj well since xxmaj pens fans whole question xxunk i think teams likely beat xxmaj pens xxmaj bruins xxmaj nordiques xxmaj blackhawks i think really,xxbos xxmaj my vote goes xxmaj john xxmaj vanbiesbrouck xxmaj his mask xxunk xxmaj new xxmaj york xxmaj city sides bunch bees xxmaj xxunk xxmaj it looks really sharp xxmaj keith xxmaj keller xxup let s xxup go xxup rangers xxup let s xxup go xxup quakers kkeller mail sas upenn edu xxup ivy xxup league xxup champs,xxbos xxmaj bear new game could anyone explain exactly xxup xxunk simply xxunk one bitmap another shape one xxunk p another xxmaj please excuse ignorance even sure posted xxunk message correctly\n",
       "y: LMLabelList\n",
       ",,,,\n",
       "Path: .;\n",
       "\n",
       "Test: None, model=SequentialRNN(\n",
       "  (0): AWD_LSTM(\n",
       "    (encoder): Embedding(7351, 400, padding_idx=1)\n",
       "    (encoder_dp): EmbeddingDropout(\n",
       "      (emb): Embedding(7351, 400, padding_idx=1)\n",
       "    )\n",
       "    (rnns): ModuleList(\n",
       "      (0): WeightDropout(\n",
       "        (module): LSTM(400, 1150, batch_first=True)\n",
       "      )\n",
       "      (1): WeightDropout(\n",
       "        (module): LSTM(1150, 1150, batch_first=True)\n",
       "      )\n",
       "      (2): WeightDropout(\n",
       "        (module): LSTM(1150, 400, batch_first=True)\n",
       "      )\n",
       "    )\n",
       "    (input_dp): RNNDropout()\n",
       "    (hidden_dps): ModuleList(\n",
       "      (0): RNNDropout()\n",
       "      (1): RNNDropout()\n",
       "      (2): RNNDropout()\n",
       "    )\n",
       "  )\n",
       "  (1): LinearDecoder(\n",
       "    (decoder): Linear(in_features=400, out_features=7351, bias=True)\n",
       "    (output_dp): RNNDropout()\n",
       "  )\n",
       "), opt_func=functools.partial(<class 'torch.optim.adam.Adam'>, betas=(0.9, 0.99)), loss_func=FlattenedLoss of CrossEntropyLoss(), metrics=[<function accuracy at 0x7fad6b56b378>], true_wd=True, bn_wd=True, wd=0.01, train_bn=True, path=PosixPath('.'), model_dir='models', callback_fns=[functools.partial(<class 'fastai.basic_train.Recorder'>, add_time=True)], callbacks=[...], layer_groups=[Sequential(\n",
       "  (0): WeightDropout(\n",
       "    (module): LSTM(400, 1150, batch_first=True)\n",
       "  )\n",
       "  (1): RNNDropout()\n",
       "), Sequential(\n",
       "  (0): WeightDropout(\n",
       "    (module): LSTM(1150, 1150, batch_first=True)\n",
       "  )\n",
       "  (1): RNNDropout()\n",
       "), Sequential(\n",
       "  (0): WeightDropout(\n",
       "    (module): LSTM(1150, 400, batch_first=True)\n",
       "  )\n",
       "  (1): RNNDropout()\n",
       "), Sequential(\n",
       "  (0): Embedding(7351, 400, padding_idx=1)\n",
       "  (1): EmbeddingDropout(\n",
       "    (emb): Embedding(7351, 400, padding_idx=1)\n",
       "  )\n",
       "  (2): LinearDecoder(\n",
       "    (decoder): Linear(in_features=400, out_features=7351, bias=True)\n",
       "    (output_dp): RNNDropout()\n",
       "  )\n",
       ")], add_time=True)\n",
       "alpha: 2.0\n",
       "beta: 1.0], layer_groups=[Sequential(\n",
       "  (0): WeightDropout(\n",
       "    (module): LSTM(400, 1150, batch_first=True)\n",
       "  )\n",
       "  (1): RNNDropout()\n",
       "), Sequential(\n",
       "  (0): WeightDropout(\n",
       "    (module): LSTM(1150, 1150, batch_first=True)\n",
       "  )\n",
       "  (1): RNNDropout()\n",
       "), Sequential(\n",
       "  (0): WeightDropout(\n",
       "    (module): LSTM(1150, 400, batch_first=True)\n",
       "  )\n",
       "  (1): RNNDropout()\n",
       "), Sequential(\n",
       "  (0): Embedding(7351, 400, padding_idx=1)\n",
       "  (1): EmbeddingDropout(\n",
       "    (emb): Embedding(7351, 400, padding_idx=1)\n",
       "  )\n",
       "  (2): LinearDecoder(\n",
       "    (decoder): Linear(in_features=400, out_features=7351, bias=True)\n",
       "    (output_dp): RNNDropout()\n",
       "  )\n",
       ")], add_time=True)"
      ]
     },
     "execution_count": 24,
     "metadata": {},
     "output_type": "execute_result"
    }
   ],
   "source": [
    "learn.load('fit-head')"
   ]
  },
  {
   "cell_type": "code",
   "execution_count": 25,
   "metadata": {},
   "outputs": [],
   "source": [
    "learn.unfreeze()"
   ]
  },
  {
   "cell_type": "code",
   "execution_count": 26,
   "metadata": {},
   "outputs": [
    {
     "data": {
      "text/html": [
       "<table border=\"1\" class=\"dataframe\">\n",
       "  <thead>\n",
       "    <tr style=\"text-align: left;\">\n",
       "      <th>epoch</th>\n",
       "      <th>train_loss</th>\n",
       "      <th>valid_loss</th>\n",
       "      <th>accuracy</th>\n",
       "      <th>time</th>\n",
       "    </tr>\n",
       "  </thead>\n",
       "  <tbody>\n",
       "    <tr>\n",
       "      <td>0</td>\n",
       "      <td>5.508158</td>\n",
       "      <td>5.071870</td>\n",
       "      <td>0.275248</td>\n",
       "      <td>00:04</td>\n",
       "    </tr>\n",
       "    <tr>\n",
       "      <td>1</td>\n",
       "      <td>5.335514</td>\n",
       "      <td>4.860435</td>\n",
       "      <td>0.290526</td>\n",
       "      <td>00:04</td>\n",
       "    </tr>\n",
       "    <tr>\n",
       "      <td>2</td>\n",
       "      <td>5.147439</td>\n",
       "      <td>4.727080</td>\n",
       "      <td>0.294320</td>\n",
       "      <td>00:04</td>\n",
       "    </tr>\n",
       "    <tr>\n",
       "      <td>3</td>\n",
       "      <td>4.939177</td>\n",
       "      <td>4.615794</td>\n",
       "      <td>0.297123</td>\n",
       "      <td>00:04</td>\n",
       "    </tr>\n",
       "    <tr>\n",
       "      <td>4</td>\n",
       "      <td>4.725132</td>\n",
       "      <td>4.546784</td>\n",
       "      <td>0.305531</td>\n",
       "      <td>00:04</td>\n",
       "    </tr>\n",
       "    <tr>\n",
       "      <td>5</td>\n",
       "      <td>4.506917</td>\n",
       "      <td>4.517560</td>\n",
       "      <td>0.304588</td>\n",
       "      <td>00:04</td>\n",
       "    </tr>\n",
       "    <tr>\n",
       "      <td>6</td>\n",
       "      <td>4.297603</td>\n",
       "      <td>4.506051</td>\n",
       "      <td>0.307217</td>\n",
       "      <td>00:04</td>\n",
       "    </tr>\n",
       "    <tr>\n",
       "      <td>7</td>\n",
       "      <td>4.119246</td>\n",
       "      <td>4.508424</td>\n",
       "      <td>0.306275</td>\n",
       "      <td>00:04</td>\n",
       "    </tr>\n",
       "    <tr>\n",
       "      <td>8</td>\n",
       "      <td>3.987627</td>\n",
       "      <td>4.508739</td>\n",
       "      <td>0.305779</td>\n",
       "      <td>00:04</td>\n",
       "    </tr>\n",
       "    <tr>\n",
       "      <td>9</td>\n",
       "      <td>3.903121</td>\n",
       "      <td>4.510683</td>\n",
       "      <td>0.306200</td>\n",
       "      <td>00:04</td>\n",
       "    </tr>\n",
       "  </tbody>\n",
       "</table>"
      ],
      "text/plain": [
       "<IPython.core.display.HTML object>"
      ]
     },
     "metadata": {},
     "output_type": "display_data"
    }
   ],
   "source": [
    "learn.fit_one_cycle(10, 1e-3, moms=(0.8,0.7))"
   ]
  },
  {
   "cell_type": "code",
   "execution_count": 27,
   "metadata": {},
   "outputs": [],
   "source": [
    "learn.save('fine_tuned')\n",
    "learn.load('fine_tuned');"
   ]
  },
  {
   "cell_type": "code",
   "execution_count": 28,
   "metadata": {},
   "outputs": [],
   "source": [
    "TEXT = \"Although I realize that principle is not\"\n",
    "N_WORDS = 40\n",
    "N_SENTENCES = 2"
   ]
  },
  {
   "cell_type": "code",
   "execution_count": 29,
   "metadata": {},
   "outputs": [
    {
     "name": "stdout",
     "output_type": "stream",
     "text": [
      "Although I realize that principle is not related i understand i would try write either program i miss Thanks advance My reason i Thanks xxbos i looking Hartford Whalers But i know picked Hartford Whalers Dave Bruins\n",
      "Although I realize that principle is not necessarily offensive result center The Halifax Toronto First period i guess Toronto gets another one net win Stanley Cup lost Stanley Cup The last two games i seen stupid\n"
     ]
    }
   ],
   "source": [
    "print(\"\\n\".join(learn.predict(TEXT, N_WORDS, temperature=0.75) for _ in range(N_SENTENCES)))"
   ]
  },
  {
   "cell_type": "code",
   "execution_count": 30,
   "metadata": {},
   "outputs": [],
   "source": [
    "learn.save_encoder('fine_tuned_enc')"
   ]
  },
  {
   "cell_type": "code",
   "execution_count": 31,
   "metadata": {},
   "outputs": [],
   "source": [
    "#classifier"
   ]
  },
  {
   "cell_type": "code",
   "execution_count": 32,
   "metadata": {},
   "outputs": [],
   "source": [
    "learn = text_classifier_learner(data_clas, AWD_LSTM, drop_mult=0.5)\n",
    "learn.load_encoder('fine_tuned_enc')"
   ]
  },
  {
   "cell_type": "code",
   "execution_count": 33,
   "metadata": {},
   "outputs": [
    {
     "data": {
      "text/html": [],
      "text/plain": [
       "<IPython.core.display.HTML object>"
      ]
     },
     "metadata": {},
     "output_type": "display_data"
    },
    {
     "name": "stdout",
     "output_type": "stream",
     "text": [
      "LR Finder is complete, type {learner_name}.recorder.plot() to see the graph.\n"
     ]
    }
   ],
   "source": [
    "learn.lr_find()"
   ]
  },
  {
   "cell_type": "code",
   "execution_count": 34,
   "metadata": {},
   "outputs": [
    {
     "data": {
      "image/png": "[encoded data removed]",
      "text/plain": [
       "<Figure size 432x288 with 1 Axes>"
      ]
     },
     "metadata": {},
     "output_type": "display_data"
    }
   ],
   "source": [
    "learn.recorder.plot()"
   ]
  },
  {
   "cell_type": "code",
   "execution_count": 35,
   "metadata": {},
   "outputs": [
    {
     "data": {
      "text/html": [
       "<table border=\"1\" class=\"dataframe\">\n",
       "  <thead>\n",
       "    <tr style=\"text-align: left;\">\n",
       "      <th>epoch</th>\n",
       "      <th>train_loss</th>\n",
       "      <th>valid_loss</th>\n",
       "      <th>accuracy</th>\n",
       "      <th>time</th>\n",
       "    </tr>\n",
       "  </thead>\n",
       "  <tbody>\n",
       "    <tr>\n",
       "      <td>0</td>\n",
       "      <td>0.388870</td>\n",
       "      <td>0.326786</td>\n",
       "      <td>0.957865</td>\n",
       "      <td>00:08</td>\n",
       "    </tr>\n",
       "  </tbody>\n",
       "</table>"
      ],
      "text/plain": [
       "<IPython.core.display.HTML object>"
      ]
     },
     "metadata": {},
     "output_type": "display_data"
    }
   ],
   "source": [
    "learn.fit_one_cycle(1, 1e-3, moms=(0.8,0.7))"
   ]
  },
  {
   "cell_type": "code",
   "execution_count": 36,
   "metadata": {},
   "outputs": [
    {
     "data": {
      "text/plain": [
       "RNNLearner(data=TextClasDataBunch;\n",
       "\n",
       "Train: LabelList (828 items)\n",
       "x: TextList\n",
       "xxbos xxmaj for xxunk package try xxup wave xxmaj precision xxmaj visuals xxmaj for free package try xxup khoros xxmaj university xxmaj new xxmaj mexico ftp xxunk eece unm edu xxmaj login xxunk ftp valid email address password cd pub khoros release xxmaj that get right place,xxbos i agree xxmaj of cause i try daemon,xxbos xxmaj if life simple xxmaj savard played three last four games still playing like crap xxmaj montreal problems run deeper xxmaj savard xxmaj mouton unfortunately i hope get act together playoffs xxmaj the line game coming pittsburgh said one likely use playoffs xxmaj let hope forget nice weather play hockey,xxbos xxmaj first i enjoyed reading post xxmaj second i disagree xxmaj pen weak spot defense goaltending couple reasons xxmaj barrasso spectacular year slow start consistently sharp xxup gaa leads league wins xxmaj tommy deserves xxmaj vezina xxmaj given lack respect commands though i doubt win xxmaj the reason concerns xxmaj pens team defense xxmaj they xxunk around rd th xxunk goals allowed xxmaj that big improvement indicates playing better team defense xxmaj we see xxmaj it fun,xxbos xxmaj has anyone got multiverse work i built svr mips svr xxmaj sun sparcstation xxmaj there seems many bugs xxmaj the dogfight dactyl simply nothing xxmaj after fixing bug variable defined twice two different modules xxmaj one needed setting xxunk else client core dumped xxmaj steve\n",
       "y: CategoryList\n",
       "1,1,10,10,1\n",
       "Path: .;\n",
       "\n",
       "Valid: LabelList (356 items)\n",
       "x: TextList\n",
       "xxbos xxmaj no xxmaj that i xxunk i intend suggest xxup dec better xxup sgi let tell xxmaj xxunk day prepared large xxunk xxmaj my comment regarding xxup dec xxunk i might open vendors supported opengl rather deal xxup sgi xxmaj what i xxunk fact led believe would able upgrade multiprocessor version xxmaj crimson without assistance xxunk xxunk xxunk i also xxunk sold several xxmaj personal xxunk previous site understanding architecture would around rather xxunk xxmaj now i understand xxup sgi responsible xxunk keep showing positive xxunk bottom line odd i found xxunk least two xxunk get business books end quarter i little xxunk getting xxunk process xxmaj maybe lab xxunk xxunk xxunk xxunk xxunk xxunk covers xxmaj big xxmaj kids xxup nasa instance xxmaj this lab i suspect lot labs organizations load money spend computers every year xxunk new systems regular basis xxmaj the boxes buy last us pretty much entire grant period five years case beyond xxmaj that means i need buy best piece equipment i i money product built xxunk one previous poster words fill xxunk compete vendor i going looking box next five years xxmaj and every time i look i going think xxup sgi i could better spent money actually money since supported almost entirely xxmaj xxunk xxunk dollars xxmaj now xxunk i go xxunk xxunk corner somewhere think dark xxunk thoughts xxunk,xxbos majority users xxunk floppy xxmaj well us picture xxup cd xxup roms would like use xxup cview fast works well moron xxunk xxunk create temp file program path current xxunk xxmaj actually flexible way create temp files check xxup temp xxup tmp environment variable create files drive directory xxunk variable xxmaj this pretty much standard xxup dos xxmaj windows xxup os applications xxmaj unfortunately cview pay attention temp environment variable,xxbos xxmaj really xxmaj what makes think xxmaj islanders better shot xxmaj they even beat xxmaj whalers two games xxmaj well since xxmaj pens fans whole question xxunk i think teams likely beat xxmaj pens xxmaj bruins xxmaj nordiques xxmaj blackhawks i think really,xxbos xxmaj my vote goes xxmaj john xxmaj vanbiesbrouck xxmaj his mask xxunk xxmaj new xxmaj york xxmaj city sides bunch bees xxmaj xxunk xxmaj it looks really sharp xxmaj keith xxmaj keller xxup let s xxup go xxup rangers xxup let s xxup go xxup quakers kkeller mail sas upenn edu xxup ivy xxup league xxup champs,xxbos xxmaj bear new game could anyone explain exactly xxup xxunk simply xxunk one bitmap another shape one xxunk p another xxmaj please excuse ignorance even sure posted xxunk message correctly\n",
       "y: CategoryList\n",
       "1,1,10,10,1\n",
       "Path: .;\n",
       "\n",
       "Test: None, model=SequentialRNN(\n",
       "  (0): MultiBatchEncoder(\n",
       "    (module): AWD_LSTM(\n",
       "      (encoder): Embedding(7351, 400, padding_idx=1)\n",
       "      (encoder_dp): EmbeddingDropout(\n",
       "        (emb): Embedding(7351, 400, padding_idx=1)\n",
       "      )\n",
       "      (rnns): ModuleList(\n",
       "        (0): WeightDropout(\n",
       "          (module): LSTM(400, 1150, batch_first=True)\n",
       "        )\n",
       "        (1): WeightDropout(\n",
       "          (module): LSTM(1150, 1150, batch_first=True)\n",
       "        )\n",
       "        (2): WeightDropout(\n",
       "          (module): LSTM(1150, 400, batch_first=True)\n",
       "        )\n",
       "      )\n",
       "      (input_dp): RNNDropout()\n",
       "      (hidden_dps): ModuleList(\n",
       "        (0): RNNDropout()\n",
       "        (1): RNNDropout()\n",
       "        (2): RNNDropout()\n",
       "      )\n",
       "    )\n",
       "  )\n",
       "  (1): PoolingLinearClassifier(\n",
       "    (layers): Sequential(\n",
       "      (0): BatchNorm1d(1200, eps=1e-05, momentum=0.1, affine=True, track_running_stats=True)\n",
       "      (1): Dropout(p=0.2)\n",
       "      (2): Linear(in_features=1200, out_features=50, bias=True)\n",
       "      (3): ReLU(inplace)\n",
       "      (4): BatchNorm1d(50, eps=1e-05, momentum=0.1, affine=True, track_running_stats=True)\n",
       "      (5): Dropout(p=0.1)\n",
       "      (6): Linear(in_features=50, out_features=2, bias=True)\n",
       "    )\n",
       "  )\n",
       "), opt_func=functools.partial(<class 'torch.optim.adam.Adam'>, betas=(0.9, 0.99)), loss_func=FlattenedLoss of CrossEntropyLoss(), metrics=[<function accuracy at 0x7fad6b56b378>], true_wd=True, bn_wd=True, wd=0.01, train_bn=True, path=PosixPath('.'), model_dir='models', callback_fns=[functools.partial(<class 'fastai.basic_train.Recorder'>, add_time=True)], callbacks=[RNNTrainer\n",
       "learn: RNNLearner(data=TextClasDataBunch;\n",
       "\n",
       "Train: LabelList (828 items)\n",
       "x: TextList\n",
       "xxbos xxmaj for xxunk package try xxup wave xxmaj precision xxmaj visuals xxmaj for free package try xxup khoros xxmaj university xxmaj new xxmaj mexico ftp xxunk eece unm edu xxmaj login xxunk ftp valid email address password cd pub khoros release xxmaj that get right place,xxbos i agree xxmaj of cause i try daemon,xxbos xxmaj if life simple xxmaj savard played three last four games still playing like crap xxmaj montreal problems run deeper xxmaj savard xxmaj mouton unfortunately i hope get act together playoffs xxmaj the line game coming pittsburgh said one likely use playoffs xxmaj let hope forget nice weather play hockey,xxbos xxmaj first i enjoyed reading post xxmaj second i disagree xxmaj pen weak spot defense goaltending couple reasons xxmaj barrasso spectacular year slow start consistently sharp xxup gaa leads league wins xxmaj tommy deserves xxmaj vezina xxmaj given lack respect commands though i doubt win xxmaj the reason concerns xxmaj pens team defense xxmaj they xxunk around rd th xxunk goals allowed xxmaj that big improvement indicates playing better team defense xxmaj we see xxmaj it fun,xxbos xxmaj has anyone got multiverse work i built svr mips svr xxmaj sun sparcstation xxmaj there seems many bugs xxmaj the dogfight dactyl simply nothing xxmaj after fixing bug variable defined twice two different modules xxmaj one needed setting xxunk else client core dumped xxmaj steve\n",
       "y: CategoryList\n",
       "1,1,10,10,1\n",
       "Path: .;\n",
       "\n",
       "Valid: LabelList (356 items)\n",
       "x: TextList\n",
       "xxbos xxmaj no xxmaj that i xxunk i intend suggest xxup dec better xxup sgi let tell xxmaj xxunk day prepared large xxunk xxmaj my comment regarding xxup dec xxunk i might open vendors supported opengl rather deal xxup sgi xxmaj what i xxunk fact led believe would able upgrade multiprocessor version xxmaj crimson without assistance xxunk xxunk xxunk i also xxunk sold several xxmaj personal xxunk previous site understanding architecture would around rather xxunk xxmaj now i understand xxup sgi responsible xxunk keep showing positive xxunk bottom line odd i found xxunk least two xxunk get business books end quarter i little xxunk getting xxunk process xxmaj maybe lab xxunk xxunk xxunk xxunk xxunk xxunk covers xxmaj big xxmaj kids xxup nasa instance xxmaj this lab i suspect lot labs organizations load money spend computers every year xxunk new systems regular basis xxmaj the boxes buy last us pretty much entire grant period five years case beyond xxmaj that means i need buy best piece equipment i i money product built xxunk one previous poster words fill xxunk compete vendor i going looking box next five years xxmaj and every time i look i going think xxup sgi i could better spent money actually money since supported almost entirely xxmaj xxunk xxunk dollars xxmaj now xxunk i go xxunk xxunk corner somewhere think dark xxunk thoughts xxunk,xxbos majority users xxunk floppy xxmaj well us picture xxup cd xxup roms would like use xxup cview fast works well moron xxunk xxunk create temp file program path current xxunk xxmaj actually flexible way create temp files check xxup temp xxup tmp environment variable create files drive directory xxunk variable xxmaj this pretty much standard xxup dos xxmaj windows xxup os applications xxmaj unfortunately cview pay attention temp environment variable,xxbos xxmaj really xxmaj what makes think xxmaj islanders better shot xxmaj they even beat xxmaj whalers two games xxmaj well since xxmaj pens fans whole question xxunk i think teams likely beat xxmaj pens xxmaj bruins xxmaj nordiques xxmaj blackhawks i think really,xxbos xxmaj my vote goes xxmaj john xxmaj vanbiesbrouck xxmaj his mask xxunk xxmaj new xxmaj york xxmaj city sides bunch bees xxmaj xxunk xxmaj it looks really sharp xxmaj keith xxmaj keller xxup let s xxup go xxup rangers xxup let s xxup go xxup quakers kkeller mail sas upenn edu xxup ivy xxup league xxup champs,xxbos xxmaj bear new game could anyone explain exactly xxup xxunk simply xxunk one bitmap another shape one xxunk p another xxmaj please excuse ignorance even sure posted xxunk message correctly\n",
       "y: CategoryList\n",
       "1,1,10,10,1\n",
       "Path: .;\n",
       "\n",
       "Test: None, model=SequentialRNN(\n",
       "  (0): MultiBatchEncoder(\n",
       "    (module): AWD_LSTM(\n",
       "      (encoder): Embedding(7351, 400, padding_idx=1)\n",
       "      (encoder_dp): EmbeddingDropout(\n",
       "        (emb): Embedding(7351, 400, padding_idx=1)\n",
       "      )\n",
       "      (rnns): ModuleList(\n",
       "        (0): WeightDropout(\n",
       "          (module): LSTM(400, 1150, batch_first=True)\n",
       "        )\n",
       "        (1): WeightDropout(\n",
       "          (module): LSTM(1150, 1150, batch_first=True)\n",
       "        )\n",
       "        (2): WeightDropout(\n",
       "          (module): LSTM(1150, 400, batch_first=True)\n",
       "        )\n",
       "      )\n",
       "      (input_dp): RNNDropout()\n",
       "      (hidden_dps): ModuleList(\n",
       "        (0): RNNDropout()\n",
       "        (1): RNNDropout()\n",
       "        (2): RNNDropout()\n",
       "      )\n",
       "    )\n",
       "  )\n",
       "  (1): PoolingLinearClassifier(\n",
       "    (layers): Sequential(\n",
       "      (0): BatchNorm1d(1200, eps=1e-05, momentum=0.1, affine=True, track_running_stats=True)\n",
       "      (1): Dropout(p=0.2)\n",
       "      (2): Linear(in_features=1200, out_features=50, bias=True)\n",
       "      (3): ReLU(inplace)\n",
       "      (4): BatchNorm1d(50, eps=1e-05, momentum=0.1, affine=True, track_running_stats=True)\n",
       "      (5): Dropout(p=0.1)\n",
       "      (6): Linear(in_features=50, out_features=2, bias=True)\n",
       "    )\n",
       "  )\n",
       "), opt_func=functools.partial(<class 'torch.optim.adam.Adam'>, betas=(0.9, 0.99)), loss_func=FlattenedLoss of CrossEntropyLoss(), metrics=[<function accuracy at 0x7fad6b56b378>], true_wd=True, bn_wd=True, wd=0.01, train_bn=True, path=PosixPath('.'), model_dir='models', callback_fns=[functools.partial(<class 'fastai.basic_train.Recorder'>, add_time=True)], callbacks=[...], layer_groups=[Sequential(\n",
       "  (0): Embedding(7351, 400, padding_idx=1)\n",
       "  (1): EmbeddingDropout(\n",
       "    (emb): Embedding(7351, 400, padding_idx=1)\n",
       "  )\n",
       "), Sequential(\n",
       "  (0): WeightDropout(\n",
       "    (module): LSTM(400, 1150, batch_first=True)\n",
       "  )\n",
       "  (1): RNNDropout()\n",
       "), Sequential(\n",
       "  (0): WeightDropout(\n",
       "    (module): LSTM(1150, 1150, batch_first=True)\n",
       "  )\n",
       "  (1): RNNDropout()\n",
       "), Sequential(\n",
       "  (0): WeightDropout(\n",
       "    (module): LSTM(1150, 400, batch_first=True)\n",
       "  )\n",
       "  (1): RNNDropout()\n",
       "), Sequential(\n",
       "  (0): PoolingLinearClassifier(\n",
       "    (layers): Sequential(\n",
       "      (0): BatchNorm1d(1200, eps=1e-05, momentum=0.1, affine=True, track_running_stats=True)\n",
       "      (1): Dropout(p=0.2)\n",
       "      (2): Linear(in_features=1200, out_features=50, bias=True)\n",
       "      (3): ReLU(inplace)\n",
       "      (4): BatchNorm1d(50, eps=1e-05, momentum=0.1, affine=True, track_running_stats=True)\n",
       "      (5): Dropout(p=0.1)\n",
       "      (6): Linear(in_features=50, out_features=2, bias=True)\n",
       "    )\n",
       "  )\n",
       ")], add_time=True)\n",
       "alpha: 2.0\n",
       "beta: 1.0], layer_groups=[Sequential(\n",
       "  (0): Embedding(7351, 400, padding_idx=1)\n",
       "  (1): EmbeddingDropout(\n",
       "    (emb): Embedding(7351, 400, padding_idx=1)\n",
       "  )\n",
       "), Sequential(\n",
       "  (0): WeightDropout(\n",
       "    (module): LSTM(400, 1150, batch_first=True)\n",
       "  )\n",
       "  (1): RNNDropout()\n",
       "), Sequential(\n",
       "  (0): WeightDropout(\n",
       "    (module): LSTM(1150, 1150, batch_first=True)\n",
       "  )\n",
       "  (1): RNNDropout()\n",
       "), Sequential(\n",
       "  (0): WeightDropout(\n",
       "    (module): LSTM(1150, 400, batch_first=True)\n",
       "  )\n",
       "  (1): RNNDropout()\n",
       "), Sequential(\n",
       "  (0): PoolingLinearClassifier(\n",
       "    (layers): Sequential(\n",
       "      (0): BatchNorm1d(1200, eps=1e-05, momentum=0.1, affine=True, track_running_stats=True)\n",
       "      (1): Dropout(p=0.2)\n",
       "      (2): Linear(in_features=1200, out_features=50, bias=True)\n",
       "      (3): ReLU(inplace)\n",
       "      (4): BatchNorm1d(50, eps=1e-05, momentum=0.1, affine=True, track_running_stats=True)\n",
       "      (5): Dropout(p=0.1)\n",
       "      (6): Linear(in_features=50, out_features=2, bias=True)\n",
       "    )\n",
       "  )\n",
       ")], add_time=True)"
      ]
     },
     "execution_count": 36,
     "metadata": {},
     "output_type": "execute_result"
    }
   ],
   "source": [
    "learn.save('first')\n",
    "learn.load('first')"
   ]
  },
  {
   "cell_type": "code",
   "execution_count": 37,
   "metadata": {},
   "outputs": [
    {
     "data": {
      "text/html": [
       "<table border=\"1\" class=\"dataframe\">\n",
       "  <thead>\n",
       "    <tr style=\"text-align: left;\">\n",
       "      <th>epoch</th>\n",
       "      <th>train_loss</th>\n",
       "      <th>valid_loss</th>\n",
       "      <th>accuracy</th>\n",
       "      <th>time</th>\n",
       "    </tr>\n",
       "  </thead>\n",
       "  <tbody>\n",
       "    <tr>\n",
       "      <td>0</td>\n",
       "      <td>0.251575</td>\n",
       "      <td>0.094056</td>\n",
       "      <td>0.966292</td>\n",
       "      <td>00:08</td>\n",
       "    </tr>\n",
       "  </tbody>\n",
       "</table>"
      ],
      "text/plain": [
       "<IPython.core.display.HTML object>"
      ]
     },
     "metadata": {},
     "output_type": "display_data"
    }
   ],
   "source": [
    "learn.freeze_to(-2)\n",
    "learn.fit_one_cycle(1, slice(1e-2/(2.6**4),1e-2), moms=(0.8,0.7))"
   ]
  },
  {
   "cell_type": "code",
   "execution_count": 38,
   "metadata": {},
   "outputs": [
    {
     "data": {
      "text/plain": [
       "RNNLearner(data=TextClasDataBunch;\n",
       "\n",
       "Train: LabelList (828 items)\n",
       "x: TextList\n",
       "xxbos xxmaj for xxunk package try xxup wave xxmaj precision xxmaj visuals xxmaj for free package try xxup khoros xxmaj university xxmaj new xxmaj mexico ftp xxunk eece unm edu xxmaj login xxunk ftp valid email address password cd pub khoros release xxmaj that get right place,xxbos i agree xxmaj of cause i try daemon,xxbos xxmaj if life simple xxmaj savard played three last four games still playing like crap xxmaj montreal problems run deeper xxmaj savard xxmaj mouton unfortunately i hope get act together playoffs xxmaj the line game coming pittsburgh said one likely use playoffs xxmaj let hope forget nice weather play hockey,xxbos xxmaj first i enjoyed reading post xxmaj second i disagree xxmaj pen weak spot defense goaltending couple reasons xxmaj barrasso spectacular year slow start consistently sharp xxup gaa leads league wins xxmaj tommy deserves xxmaj vezina xxmaj given lack respect commands though i doubt win xxmaj the reason concerns xxmaj pens team defense xxmaj they xxunk around rd th xxunk goals allowed xxmaj that big improvement indicates playing better team defense xxmaj we see xxmaj it fun,xxbos xxmaj has anyone got multiverse work i built svr mips svr xxmaj sun sparcstation xxmaj there seems many bugs xxmaj the dogfight dactyl simply nothing xxmaj after fixing bug variable defined twice two different modules xxmaj one needed setting xxunk else client core dumped xxmaj steve\n",
       "y: CategoryList\n",
       "1,1,10,10,1\n",
       "Path: .;\n",
       "\n",
       "Valid: LabelList (356 items)\n",
       "x: TextList\n",
       "xxbos xxmaj no xxmaj that i xxunk i intend suggest xxup dec better xxup sgi let tell xxmaj xxunk day prepared large xxunk xxmaj my comment regarding xxup dec xxunk i might open vendors supported opengl rather deal xxup sgi xxmaj what i xxunk fact led believe would able upgrade multiprocessor version xxmaj crimson without assistance xxunk xxunk xxunk i also xxunk sold several xxmaj personal xxunk previous site understanding architecture would around rather xxunk xxmaj now i understand xxup sgi responsible xxunk keep showing positive xxunk bottom line odd i found xxunk least two xxunk get business books end quarter i little xxunk getting xxunk process xxmaj maybe lab xxunk xxunk xxunk xxunk xxunk xxunk covers xxmaj big xxmaj kids xxup nasa instance xxmaj this lab i suspect lot labs organizations load money spend computers every year xxunk new systems regular basis xxmaj the boxes buy last us pretty much entire grant period five years case beyond xxmaj that means i need buy best piece equipment i i money product built xxunk one previous poster words fill xxunk compete vendor i going looking box next five years xxmaj and every time i look i going think xxup sgi i could better spent money actually money since supported almost entirely xxmaj xxunk xxunk dollars xxmaj now xxunk i go xxunk xxunk corner somewhere think dark xxunk thoughts xxunk,xxbos majority users xxunk floppy xxmaj well us picture xxup cd xxup roms would like use xxup cview fast works well moron xxunk xxunk create temp file program path current xxunk xxmaj actually flexible way create temp files check xxup temp xxup tmp environment variable create files drive directory xxunk variable xxmaj this pretty much standard xxup dos xxmaj windows xxup os applications xxmaj unfortunately cview pay attention temp environment variable,xxbos xxmaj really xxmaj what makes think xxmaj islanders better shot xxmaj they even beat xxmaj whalers two games xxmaj well since xxmaj pens fans whole question xxunk i think teams likely beat xxmaj pens xxmaj bruins xxmaj nordiques xxmaj blackhawks i think really,xxbos xxmaj my vote goes xxmaj john xxmaj vanbiesbrouck xxmaj his mask xxunk xxmaj new xxmaj york xxmaj city sides bunch bees xxmaj xxunk xxmaj it looks really sharp xxmaj keith xxmaj keller xxup let s xxup go xxup rangers xxup let s xxup go xxup quakers kkeller mail sas upenn edu xxup ivy xxup league xxup champs,xxbos xxmaj bear new game could anyone explain exactly xxup xxunk simply xxunk one bitmap another shape one xxunk p another xxmaj please excuse ignorance even sure posted xxunk message correctly\n",
       "y: CategoryList\n",
       "1,1,10,10,1\n",
       "Path: .;\n",
       "\n",
       "Test: None, model=SequentialRNN(\n",
       "  (0): MultiBatchEncoder(\n",
       "    (module): AWD_LSTM(\n",
       "      (encoder): Embedding(7351, 400, padding_idx=1)\n",
       "      (encoder_dp): EmbeddingDropout(\n",
       "        (emb): Embedding(7351, 400, padding_idx=1)\n",
       "      )\n",
       "      (rnns): ModuleList(\n",
       "        (0): WeightDropout(\n",
       "          (module): LSTM(400, 1150, batch_first=True)\n",
       "        )\n",
       "        (1): WeightDropout(\n",
       "          (module): LSTM(1150, 1150, batch_first=True)\n",
       "        )\n",
       "        (2): WeightDropout(\n",
       "          (module): LSTM(1150, 400, batch_first=True)\n",
       "        )\n",
       "      )\n",
       "      (input_dp): RNNDropout()\n",
       "      (hidden_dps): ModuleList(\n",
       "        (0): RNNDropout()\n",
       "        (1): RNNDropout()\n",
       "        (2): RNNDropout()\n",
       "      )\n",
       "    )\n",
       "  )\n",
       "  (1): PoolingLinearClassifier(\n",
       "    (layers): Sequential(\n",
       "      (0): BatchNorm1d(1200, eps=1e-05, momentum=0.1, affine=True, track_running_stats=True)\n",
       "      (1): Dropout(p=0.2)\n",
       "      (2): Linear(in_features=1200, out_features=50, bias=True)\n",
       "      (3): ReLU(inplace)\n",
       "      (4): BatchNorm1d(50, eps=1e-05, momentum=0.1, affine=True, track_running_stats=True)\n",
       "      (5): Dropout(p=0.1)\n",
       "      (6): Linear(in_features=50, out_features=2, bias=True)\n",
       "    )\n",
       "  )\n",
       "), opt_func=functools.partial(<class 'torch.optim.adam.Adam'>, betas=(0.9, 0.99)), loss_func=FlattenedLoss of CrossEntropyLoss(), metrics=[<function accuracy at 0x7fad6b56b378>], true_wd=True, bn_wd=True, wd=0.01, train_bn=True, path=PosixPath('.'), model_dir='models', callback_fns=[functools.partial(<class 'fastai.basic_train.Recorder'>, add_time=True)], callbacks=[RNNTrainer\n",
       "learn: RNNLearner(data=TextClasDataBunch;\n",
       "\n",
       "Train: LabelList (828 items)\n",
       "x: TextList\n",
       "xxbos xxmaj for xxunk package try xxup wave xxmaj precision xxmaj visuals xxmaj for free package try xxup khoros xxmaj university xxmaj new xxmaj mexico ftp xxunk eece unm edu xxmaj login xxunk ftp valid email address password cd pub khoros release xxmaj that get right place,xxbos i agree xxmaj of cause i try daemon,xxbos xxmaj if life simple xxmaj savard played three last four games still playing like crap xxmaj montreal problems run deeper xxmaj savard xxmaj mouton unfortunately i hope get act together playoffs xxmaj the line game coming pittsburgh said one likely use playoffs xxmaj let hope forget nice weather play hockey,xxbos xxmaj first i enjoyed reading post xxmaj second i disagree xxmaj pen weak spot defense goaltending couple reasons xxmaj barrasso spectacular year slow start consistently sharp xxup gaa leads league wins xxmaj tommy deserves xxmaj vezina xxmaj given lack respect commands though i doubt win xxmaj the reason concerns xxmaj pens team defense xxmaj they xxunk around rd th xxunk goals allowed xxmaj that big improvement indicates playing better team defense xxmaj we see xxmaj it fun,xxbos xxmaj has anyone got multiverse work i built svr mips svr xxmaj sun sparcstation xxmaj there seems many bugs xxmaj the dogfight dactyl simply nothing xxmaj after fixing bug variable defined twice two different modules xxmaj one needed setting xxunk else client core dumped xxmaj steve\n",
       "y: CategoryList\n",
       "1,1,10,10,1\n",
       "Path: .;\n",
       "\n",
       "Valid: LabelList (356 items)\n",
       "x: TextList\n",
       "xxbos xxmaj no xxmaj that i xxunk i intend suggest xxup dec better xxup sgi let tell xxmaj xxunk day prepared large xxunk xxmaj my comment regarding xxup dec xxunk i might open vendors supported opengl rather deal xxup sgi xxmaj what i xxunk fact led believe would able upgrade multiprocessor version xxmaj crimson without assistance xxunk xxunk xxunk i also xxunk sold several xxmaj personal xxunk previous site understanding architecture would around rather xxunk xxmaj now i understand xxup sgi responsible xxunk keep showing positive xxunk bottom line odd i found xxunk least two xxunk get business books end quarter i little xxunk getting xxunk process xxmaj maybe lab xxunk xxunk xxunk xxunk xxunk xxunk covers xxmaj big xxmaj kids xxup nasa instance xxmaj this lab i suspect lot labs organizations load money spend computers every year xxunk new systems regular basis xxmaj the boxes buy last us pretty much entire grant period five years case beyond xxmaj that means i need buy best piece equipment i i money product built xxunk one previous poster words fill xxunk compete vendor i going looking box next five years xxmaj and every time i look i going think xxup sgi i could better spent money actually money since supported almost entirely xxmaj xxunk xxunk dollars xxmaj now xxunk i go xxunk xxunk corner somewhere think dark xxunk thoughts xxunk,xxbos majority users xxunk floppy xxmaj well us picture xxup cd xxup roms would like use xxup cview fast works well moron xxunk xxunk create temp file program path current xxunk xxmaj actually flexible way create temp files check xxup temp xxup tmp environment variable create files drive directory xxunk variable xxmaj this pretty much standard xxup dos xxmaj windows xxup os applications xxmaj unfortunately cview pay attention temp environment variable,xxbos xxmaj really xxmaj what makes think xxmaj islanders better shot xxmaj they even beat xxmaj whalers two games xxmaj well since xxmaj pens fans whole question xxunk i think teams likely beat xxmaj pens xxmaj bruins xxmaj nordiques xxmaj blackhawks i think really,xxbos xxmaj my vote goes xxmaj john xxmaj vanbiesbrouck xxmaj his mask xxunk xxmaj new xxmaj york xxmaj city sides bunch bees xxmaj xxunk xxmaj it looks really sharp xxmaj keith xxmaj keller xxup let s xxup go xxup rangers xxup let s xxup go xxup quakers kkeller mail sas upenn edu xxup ivy xxup league xxup champs,xxbos xxmaj bear new game could anyone explain exactly xxup xxunk simply xxunk one bitmap another shape one xxunk p another xxmaj please excuse ignorance even sure posted xxunk message correctly\n",
       "y: CategoryList\n",
       "1,1,10,10,1\n",
       "Path: .;\n",
       "\n",
       "Test: None, model=SequentialRNN(\n",
       "  (0): MultiBatchEncoder(\n",
       "    (module): AWD_LSTM(\n",
       "      (encoder): Embedding(7351, 400, padding_idx=1)\n",
       "      (encoder_dp): EmbeddingDropout(\n",
       "        (emb): Embedding(7351, 400, padding_idx=1)\n",
       "      )\n",
       "      (rnns): ModuleList(\n",
       "        (0): WeightDropout(\n",
       "          (module): LSTM(400, 1150, batch_first=True)\n",
       "        )\n",
       "        (1): WeightDropout(\n",
       "          (module): LSTM(1150, 1150, batch_first=True)\n",
       "        )\n",
       "        (2): WeightDropout(\n",
       "          (module): LSTM(1150, 400, batch_first=True)\n",
       "        )\n",
       "      )\n",
       "      (input_dp): RNNDropout()\n",
       "      (hidden_dps): ModuleList(\n",
       "        (0): RNNDropout()\n",
       "        (1): RNNDropout()\n",
       "        (2): RNNDropout()\n",
       "      )\n",
       "    )\n",
       "  )\n",
       "  (1): PoolingLinearClassifier(\n",
       "    (layers): Sequential(\n",
       "      (0): BatchNorm1d(1200, eps=1e-05, momentum=0.1, affine=True, track_running_stats=True)\n",
       "      (1): Dropout(p=0.2)\n",
       "      (2): Linear(in_features=1200, out_features=50, bias=True)\n",
       "      (3): ReLU(inplace)\n",
       "      (4): BatchNorm1d(50, eps=1e-05, momentum=0.1, affine=True, track_running_stats=True)\n",
       "      (5): Dropout(p=0.1)\n",
       "      (6): Linear(in_features=50, out_features=2, bias=True)\n",
       "    )\n",
       "  )\n",
       "), opt_func=functools.partial(<class 'torch.optim.adam.Adam'>, betas=(0.9, 0.99)), loss_func=FlattenedLoss of CrossEntropyLoss(), metrics=[<function accuracy at 0x7fad6b56b378>], true_wd=True, bn_wd=True, wd=0.01, train_bn=True, path=PosixPath('.'), model_dir='models', callback_fns=[functools.partial(<class 'fastai.basic_train.Recorder'>, add_time=True)], callbacks=[...], layer_groups=[Sequential(\n",
       "  (0): Embedding(7351, 400, padding_idx=1)\n",
       "  (1): EmbeddingDropout(\n",
       "    (emb): Embedding(7351, 400, padding_idx=1)\n",
       "  )\n",
       "), Sequential(\n",
       "  (0): WeightDropout(\n",
       "    (module): LSTM(400, 1150, batch_first=True)\n",
       "  )\n",
       "  (1): RNNDropout()\n",
       "), Sequential(\n",
       "  (0): WeightDropout(\n",
       "    (module): LSTM(1150, 1150, batch_first=True)\n",
       "  )\n",
       "  (1): RNNDropout()\n",
       "), Sequential(\n",
       "  (0): WeightDropout(\n",
       "    (module): LSTM(1150, 400, batch_first=True)\n",
       "  )\n",
       "  (1): RNNDropout()\n",
       "), Sequential(\n",
       "  (0): PoolingLinearClassifier(\n",
       "    (layers): Sequential(\n",
       "      (0): BatchNorm1d(1200, eps=1e-05, momentum=0.1, affine=True, track_running_stats=True)\n",
       "      (1): Dropout(p=0.2)\n",
       "      (2): Linear(in_features=1200, out_features=50, bias=True)\n",
       "      (3): ReLU(inplace)\n",
       "      (4): BatchNorm1d(50, eps=1e-05, momentum=0.1, affine=True, track_running_stats=True)\n",
       "      (5): Dropout(p=0.1)\n",
       "      (6): Linear(in_features=50, out_features=2, bias=True)\n",
       "    )\n",
       "  )\n",
       ")], add_time=True)\n",
       "alpha: 2.0\n",
       "beta: 1.0], layer_groups=[Sequential(\n",
       "  (0): Embedding(7351, 400, padding_idx=1)\n",
       "  (1): EmbeddingDropout(\n",
       "    (emb): Embedding(7351, 400, padding_idx=1)\n",
       "  )\n",
       "), Sequential(\n",
       "  (0): WeightDropout(\n",
       "    (module): LSTM(400, 1150, batch_first=True)\n",
       "  )\n",
       "  (1): RNNDropout()\n",
       "), Sequential(\n",
       "  (0): WeightDropout(\n",
       "    (module): LSTM(1150, 1150, batch_first=True)\n",
       "  )\n",
       "  (1): RNNDropout()\n",
       "), Sequential(\n",
       "  (0): WeightDropout(\n",
       "    (module): LSTM(1150, 400, batch_first=True)\n",
       "  )\n",
       "  (1): RNNDropout()\n",
       "), Sequential(\n",
       "  (0): PoolingLinearClassifier(\n",
       "    (layers): Sequential(\n",
       "      (0): BatchNorm1d(1200, eps=1e-05, momentum=0.1, affine=True, track_running_stats=True)\n",
       "      (1): Dropout(p=0.2)\n",
       "      (2): Linear(in_features=1200, out_features=50, bias=True)\n",
       "      (3): ReLU(inplace)\n",
       "      (4): BatchNorm1d(50, eps=1e-05, momentum=0.1, affine=True, track_running_stats=True)\n",
       "      (5): Dropout(p=0.1)\n",
       "      (6): Linear(in_features=50, out_features=2, bias=True)\n",
       "    )\n",
       "  )\n",
       ")], add_time=True)"
      ]
     },
     "execution_count": 38,
     "metadata": {},
     "output_type": "execute_result"
    }
   ],
   "source": [
    "learn.save('second')\n",
    "learn.load('second')\n"
   ]
  },
  {
   "cell_type": "code",
   "execution_count": 39,
   "metadata": {},
   "outputs": [
    {
     "data": {
      "text/html": [
       "<table border=\"1\" class=\"dataframe\">\n",
       "  <thead>\n",
       "    <tr style=\"text-align: left;\">\n",
       "      <th>epoch</th>\n",
       "      <th>train_loss</th>\n",
       "      <th>valid_loss</th>\n",
       "      <th>accuracy</th>\n",
       "      <th>time</th>\n",
       "    </tr>\n",
       "  </thead>\n",
       "  <tbody>\n",
       "    <tr>\n",
       "      <td>0</td>\n",
       "      <td>0.258656</td>\n",
       "      <td>0.113892</td>\n",
       "      <td>0.957865</td>\n",
       "      <td>00:11</td>\n",
       "    </tr>\n",
       "  </tbody>\n",
       "</table>"
      ],
      "text/plain": [
       "<IPython.core.display.HTML object>"
      ]
     },
     "metadata": {},
     "output_type": "display_data"
    }
   ],
   "source": [
    "learn.freeze_to(-3)\n",
    "learn.fit_one_cycle(1, slice(5e-3/(2.6**4),5e-3), moms=(0.8,0.7))"
   ]
  },
  {
   "cell_type": "code",
   "execution_count": 40,
   "metadata": {},
   "outputs": [
    {
     "data": {
      "text/plain": [
       "(Category 1, tensor(0), tensor([0.6411, 0.3589]))"
      ]
     },
     "execution_count": 40,
     "metadata": {},
     "output_type": "execute_result"
    }
   ],
   "source": [
    "learn.predict(\"Archive name graphics resources list part\")"
   ]
  },
  {
   "cell_type": "code",
   "execution_count": 41,
   "metadata": {},
   "outputs": [],
   "source": [
    "#try freezing another time and check model accuracy"
   ]
  },
  {
   "cell_type": "code",
   "execution_count": 42,
   "metadata": {},
   "outputs": [],
   "source": []
  }
 ],
 "metadata": {
  "kernelspec": {
   "display_name": "Python 3",
   "language": "python",
   "name": "python3"
  },
  "language_info": {
   "codemirror_mode": {
    "name": "ipython",
    "version": 3
   },
   "file_extension": ".py",
   "mimetype": "text/x-python",
   "name": "python",
   "nbconvert_exporter": "python",
   "pygments_lexer": "ipython3",
   "version": "3.6.4"
  }
 },
 "nbformat": 4,
 "nbformat_minor": 1
}
